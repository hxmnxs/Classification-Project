{
 "cells": [
  {
   "cell_type": "code",
   "execution_count": null,
   "id": "05e05a08",
   "metadata": {},
   "outputs": [],
   "source": [
    "import numpy as np"
   ]
  },
  {
   "cell_type": "code",
   "execution_count": null,
   "id": "9b4d9139",
   "metadata": {},
   "outputs": [],
   "source": [
    "import pandas as pd"
   ]
  },
  {
   "cell_type": "code",
   "execution_count": null,
   "id": "12b16184",
   "metadata": {},
   "outputs": [],
   "source": [
    "import plotly.express as px"
   ]
  },
  {
   "cell_type": "code",
   "execution_count": null,
   "id": "77eb540f",
   "metadata": {},
   "outputs": [],
   "source": [
    "import statsmodels.api as sm"
   ]
  },
  {
   "cell_type": "code",
   "execution_count": null,
   "id": "34fbfc7c",
   "metadata": {},
   "outputs": [],
   "source": [
    "import matplotlib.pyplot as plt"
   ]
  },
  {
   "cell_type": "code",
   "execution_count": null,
   "id": "4be0f24c",
   "metadata": {},
   "outputs": [],
   "source": [
    "import statsmodels.formula.api as smf"
   ]
  },
  {
   "cell_type": "code",
   "execution_count": null,
   "id": "18d64b7e",
   "metadata": {},
   "outputs": [],
   "source": [
    "pd.set_option('display.max_columns', None)"
   ]
  },
  {
   "cell_type": "code",
   "execution_count": null,
   "id": "efc68161",
   "metadata": {},
   "outputs": [],
   "source": [
    "data_df = pd.read_csv(\"churn.csv\")"
   ]
  },
  {
   "cell_type": "code",
   "execution_count": null,
   "id": "768167ae-accc-4ffc-a56e-32a76b64b3a5",
   "metadata": {},
   "outputs": [],
   "source": [
    "def dataoveriew(df, message):\n",
    "    print(f'{message}:\\n')\n",
    "    print('Number of rows: ', df.shape[0])\n",
    "    print(\"\\nNumber of features:\", df.shape[1])\n",
    "    print(\"\\nData Features:\")\n",
    "    print(df.columns.tolist())\n",
    "    print(\"\\nMissing values:\", df.isnull().sum().values.sum())\n",
    "    print(\"\\nUnique values:\")\n",
    "    print(df.nunique())"
   ]
  },
  {
   "cell_type": "code",
   "execution_count": null,
   "id": "fd096e15",
   "metadata": {},
   "outputs": [],
   "source": [
    "dataoveriew(data_df, 'Overview of the dataset')"
   ]
  },
  {
   "cell_type": "markdown",
   "id": "d49d7d09-dd21-4592-a0c2-940a6fd74e18",
   "metadata": {},
   "source": [
    "The data fall under two categories:\n",
    "- 17 Categorical features:\n",
    "    - CustomerID: Customer ID unique for each customer\n",
    "    - gender: Whether the customer is a male or a female\n",
    "    - SeniorCitizen: Whether the customer is a senior citizen or not (1, 0)\n",
    "    - Partner: Whether the customer has a partner or not (Yes, No)\n",
    "    - Dependent: Whether the customer has dependents or not (Yes, No)\n",
    "    - PhoneService: Whether the customer has a phone service or not (Yes, No)\n",
    "    - MultipeLines: Whether the customer has multiple lines or not (Yes, No, No phone service)\n",
    "    - InternetService: Customer’s internet service provider (DSL, Fiber optic, No)\n",
    "    - OnlineSecurity: Whether the customer has online security or not (Yes, No, No internet service)\n",
    "    - OnlineBackup: Whether the customer has an online backup or not (Yes, No, No internet service)\n",
    "    - DeviceProtection: Whether the customer has device protection or not (Yes, No, No internet service)\n",
    "    - TechSupport: Whether the customer has tech support or not (Yes, No, No internet service)\n",
    "    - StreamingTV: Whether the customer has streaming TV or not (Yes, No, No internet service)\n",
    "    - StreamingMovies: Whether the customer has streaming movies or not (Yes, No, No internet service)\n",
    "    - Contract: The contract term of the customer (Month-to-month, One year, Two years)\n",
    "    - PaperlessBilling: The contract term of the customer (Month-to-month, One year, Two years)\n",
    "    - PaymentMethod: The customer’s payment method (Electronic check, Mailed check, Bank transfer (automatic), Credit card (automatic))\n",
    "    \n",
    "***\n",
    "    \n",
    "- 3 Numerical features:\n",
    "\n",
    "    - Tenure: Number of months the customer has stayed with the company \n",
    "    - MonthlyCharges: The amount charged to the customer monthly\n",
    "    - TotalCharges: The total amount charged to the customer\n",
    "      \n",
    "***\n",
    "\n",
    "- Prediction feature:\n",
    "    - Churn: Whether the customer churned or not (Yes or No)\n",
    "    \n",
    "    \n",
    "These features can also be sub-divided into:\n",
    "\n",
    "- Demographic customer information\n",
    "\n",
    "    - gender , SeniorCitizen , Partner , Dependents\n",
    "\n",
    "- Services that each customer has signed up for\n",
    "\n",
    "    - PhoneService , MultipleLines , InternetService , OnlineSecurity , OnlineBackup , DeviceProtection , TechSupport , StreamingTV , StreamingMovies, \n",
    "    \n",
    "- Customer account information\n",
    "\n",
    "    - tenure , Contract , PaperlessBilling , PaymentMethod , MonthlyCharges , TotalCharges"
   ]
  },
  {
   "cell_type": "markdown",
   "id": "a8f8eddc-12eb-4e10-894a-76f11fd054f9",
   "metadata": {},
   "source": [
    "### Explore Target variable"
   ]
  },
  {
   "cell_type": "code",
   "execution_count": null,
   "id": "006260ba",
   "metadata": {},
   "outputs": [],
   "source": [
    "target_instance = data_df[\"Churn\"].value_counts().reset_index()"
   ]
  },
  {
   "cell_type": "code",
   "execution_count": null,
   "id": "a6308f90",
   "metadata": {},
   "outputs": [],
   "source": [
    "target_instance.columns = ['Category', 'Count']"
   ]
  },
  {
   "cell_type": "code",
   "execution_count": null,
   "id": "adf4b439",
   "metadata": {},
   "outputs": [],
   "source": [
    "fig = px.pie(\n",
    "    target_instance,\n",
    "    values='Count',\n",
    "    names='Category',\n",
    "    color='Category',\n",
    "    color_discrete_sequence=[\"#FFFF99\", \"#FFF44F\"],  # canary, lemon\n",
    "    color_discrete_map={\"No\": \"#E30B5C\", \"Yes\": \"#50C878\"},  # raspberry, emerald\n",
    "    title='Distribution of Churn'\n",
    ")"
   ]
  },
  {
   "cell_type": "code",
   "execution_count": null,
   "id": "ea5ac4e2-e7ac-419d-aeb1-c1b1b735168e",
   "metadata": {},
   "outputs": [],
   "source": [
    "fig.show()"
   ]
  },
  {
   "cell_type": "markdown",
   "id": "64ee490e-f384-4c9d-8844-e3c533fe90af",
   "metadata": {},
   "source": [
    "We are trying to predict users that left the company in the previous month. It is a binary classification problem with an unbalance target.\n",
    "- Churn: No - 73.5%\n",
    "- Churn: Yes - 26.5%"
   ]
  },
  {
   "cell_type": "markdown",
   "id": "1de888a6-ed36-48c6-89b0-216f98a6683b",
   "metadata": {},
   "source": [
    "### Explore Categorical features"
   ]
  },
  {
   "cell_type": "code",
   "execution_count": null,
   "id": "72f13bc9-399d-46aa-9e17-c38fb1a376f5",
   "metadata": {},
   "outputs": [],
   "source": [
    "def bar(feature, df=data_df ):\n",
    "\n",
    "    temp_df = df.groupby([feature, 'Churn']).size().reset_index()\n",
    "    temp_df = temp_df.rename(columns={0:'Count'})\n",
    "\n",
    "    value_counts_df = df[feature].value_counts().to_frame().reset_index()\n",
    "    categories = [cat[1][0] for cat in value_counts_df.iterrows()]\n",
    "    num_list = [num[1][1] for num in value_counts_df.iterrows()]\n",
    "    div_list = [element / sum(num_list) for element in num_list]\n",
    "    percentage = [round(element * 100,1) for element in div_list]\n",
    "\n",
    "    def num_format(list_instance):\n",
    "        formatted_str = ''\n",
    "        for index,num in enumerate(list_instance):\n",
    "            if index < len(list_instance)-2:\n",
    "                formatted_str=formatted_str+f'{num}%, '\n",
    "            elif index == len(list_instance)-2:\n",
    "                formatted_str=formatted_str+f'{num}% & '\n",
    "            else:\n",
    "                formatted_str=formatted_str+f'{num}%'\n",
    "        return formatted_str\n",
    "\n",
    "    def str_format(list_instance):\n",
    "        formatted_str = ''\n",
    "        for index, cat in enumerate(list_instance):\n",
    "            if index < len(list_instance)-2:\n",
    "                formatted_str=formatted_str+f'{cat}, '\n",
    "            elif index == len(list_instance)-2:\n",
    "                formatted_str=formatted_str+f'{cat} & '\n",
    "            else:\n",
    "                formatted_str=formatted_str+f'{cat}'\n",
    "        return formatted_str\n",
    "\n",
    "\n",
    "    num_str = num_format(percentage)\n",
    "    cat_str = str_format(categories)\n",
    "    \n",
    "\n",
    "    churn_colors = [\"#FFFF99\", \"#FFF44F\"]  # canary, lemon\n",
    "    gender_colors = {\"Female\": \"#E30B5C\", \"Male\": \"#50C878\"}  # raspberry, emerald\n",
    "\n",
    "    # Use gender map if feature is gender, otherwise use churn map\n",
    "    if feature.lower() == \"gender\":\n",
    "        fig = px.bar(\n",
    "            temp_df,\n",
    "            x=feature,\n",
    "            y='Count',\n",
    "            color=feature,\n",
    "            title=f'Churn rate by {feature}',\n",
    "            barmode=\"group\",\n",
    "            color_discrete_map=gender_colors\n",
    "        )\n",
    "    else:\n",
    "        fig = px.bar(\n",
    "            temp_df,\n",
    "            x=feature,\n",
    "            y='Count',\n",
    "            color='Churn',\n",
    "            title=f'Churn rate by {feature}',\n",
    "            barmode=\"group\",\n",
    "            color_discrete_sequence=churn_colors\n",
    "        )\n",
    "\n",
    "    fig.add_annotation(\n",
    "        text=f'Value count of distribution of {cat_str} are<br>{num_str} percentage respectively.',\n",
    "        align='left',\n",
    "        showarrow=False,\n",
    "        xref='paper',\n",
    "        yref='paper',\n",
    "        x=1.4,\n",
    "        y=1.3,\n",
    "        bordercolor='black',\n",
    "        borderwidth=1)\n",
    "    fig.update_layout(\n",
    "        margin=dict(r=400),\n",
    "    )\n",
    "    return fig.show()"
   ]
  },
  {
   "cell_type": "code",
   "execution_count": null,
   "id": "66ed7d49",
   "metadata": {},
   "outputs": [],
   "source": [
    "bar('gender')"
   ]
  },
  {
   "cell_type": "code",
   "execution_count": null,
   "id": "8e175307",
   "metadata": {},
   "outputs": [],
   "source": [
    "data_df.loc[data_df.SeniorCitizen==0,'SeniorCitizen'] = \"No\""
   ]
  },
  {
   "cell_type": "code",
   "execution_count": null,
   "id": "d211415c",
   "metadata": {},
   "outputs": [],
   "source": [
    "data_df.loc[data_df.SeniorCitizen==1,'SeniorCitizen'] = \"Yes\""
   ]
  },
  {
   "cell_type": "code",
   "execution_count": null,
   "id": "4c2cdbe9",
   "metadata": {},
   "outputs": [],
   "source": [
    "bar('SeniorCitizen')"
   ]
  },
  {
   "cell_type": "code",
   "execution_count": null,
   "id": "319cc252",
   "metadata": {},
   "outputs": [],
   "source": [
    "bar('Partner')"
   ]
  },
  {
   "cell_type": "code",
   "execution_count": null,
   "id": "083e15d7",
   "metadata": {},
   "outputs": [],
   "source": [
    "bar('Dependents')"
   ]
  },
  {
   "cell_type": "markdown",
   "id": "05bd657f-a2ad-437b-883d-02cbc9ccb797",
   "metadata": {},
   "source": [
    "***\n",
    "**Demographic analysis Insight**: \n",
    "Gender and partner are even distributed with approximate percentage values. The difference in churn is slightly higher in females but the diffreence is negligible. There is a higher proportion of churn amongst younger customers (where SeniorCitizen is No), customers with no partners and customers with no dependents. These analysis on demographic section of data highlights on-senior citizens with no partners and dependents describe a particular segment of customers that are likely to churn.\n",
    "***"
   ]
  },
  {
   "cell_type": "code",
   "execution_count": null,
   "id": "d5cd89eb",
   "metadata": {},
   "outputs": [],
   "source": [
    "bar('PhoneService')"
   ]
  },
  {
   "cell_type": "code",
   "execution_count": null,
   "id": "442670d0",
   "metadata": {},
   "outputs": [],
   "source": [
    "bar('MultipleLines')"
   ]
  },
  {
   "cell_type": "code",
   "execution_count": null,
   "id": "52698c7a",
   "metadata": {},
   "outputs": [],
   "source": [
    "bar('InternetService')"
   ]
  },
  {
   "cell_type": "code",
   "execution_count": null,
   "id": "6f6d64dc",
   "metadata": {},
   "outputs": [],
   "source": [
    "bar('OnlineSecurity')"
   ]
  },
  {
   "cell_type": "code",
   "execution_count": null,
   "id": "a06405c6",
   "metadata": {},
   "outputs": [],
   "source": [
    "bar('OnlineBackup')"
   ]
  },
  {
   "cell_type": "code",
   "execution_count": null,
   "id": "db0e06c6",
   "metadata": {},
   "outputs": [],
   "source": [
    "bar('DeviceProtection')"
   ]
  },
  {
   "cell_type": "code",
   "execution_count": null,
   "id": "540fac1b",
   "metadata": {},
   "outputs": [],
   "source": [
    "bar('TechSupport')"
   ]
  },
  {
   "cell_type": "code",
   "execution_count": null,
   "id": "df1449cb",
   "metadata": {},
   "outputs": [],
   "source": [
    "bar('StreamingTV')"
   ]
  },
  {
   "cell_type": "code",
   "execution_count": null,
   "id": "08e5e00c-279a-496b-a5e3-0e26e9a5bf29",
   "metadata": {},
   "outputs": [],
   "source": [
    "bar('StreamingMovies')"
   ]
  },
  {
   "cell_type": "markdown",
   "id": "985ec664-a822-4b16-800f-f533047c198c",
   "metadata": {},
   "source": [
    "***\n",
    "**Services that each customer has signed up for Insight**:\n",
    "These category of features shows significant variations across their values. If a customer does not have a phone service, he/she cannot have multiple lines. About 90.3% of the customers have phone services and have the higher rate to churn. Customers who have Fibre optic as internet service are more likely to churn, this can happen due to high prices, competition, customer service, and many other reasons. Fiber optic service is much more expensive than DSL which may be one of the reasons why customers churn. Customers with  OnlineSecurity ,OnlineBackup ,DeviceProtection and TechSupport  are more unlikely to churn. Streaming service is not predictive for churn as it evenly distributed to yes and no options.\n",
    "***"
   ]
  },
  {
   "cell_type": "code",
   "execution_count": null,
   "id": "9c9c6429",
   "metadata": {},
   "outputs": [],
   "source": [
    "bar('Contract')"
   ]
  },
  {
   "cell_type": "code",
   "execution_count": null,
   "id": "9928c21f",
   "metadata": {},
   "outputs": [],
   "source": [
    "bar('PaperlessBilling')"
   ]
  },
  {
   "cell_type": "code",
   "execution_count": null,
   "id": "2a81ba76-319c-4514-8b40-e112e1b38f96",
   "metadata": {},
   "outputs": [],
   "source": [
    "bar('PaymentMethod')"
   ]
  },
  {
   "cell_type": "markdown",
   "id": "9118d7f5-12d7-4277-b090-fb0b7c50c0af",
   "metadata": {},
   "source": [
    "**Payment**:\n",
    "***\n",
    "The shorter the contract the higher churn rate as those with longer plans face additional barriers when cancelling prematurely. This clearly explains the motivation for companies to have long-term relationship with their customers. Churn Rate is higher for the customers who opted for paperless billing, About 59.2% of the customers make paperless billing. Customers who pay with electronic check are more likely to churn and this kind of payment is more common than other payment types.\n",
    "***"
   ]
  },
  {
   "cell_type": "markdown",
   "id": "ddf17f51-1477-477d-9cb8-1fefed8d25ba",
   "metadata": {},
   "source": [
    "### Explore Numeric features"
   ]
  },
  {
   "cell_type": "code",
   "execution_count": null,
   "id": "5213bf08-af65-40ba-b0a4-b96bbeed6b83",
   "metadata": {},
   "outputs": [],
   "source": [
    "data_df.dtypes"
   ]
  },
  {
   "cell_type": "code",
   "execution_count": null,
   "id": "1d83f610-3d19-426b-8f11-1010135f2aea",
   "metadata": {},
   "outputs": [],
   "source": [
    "try:\n",
    "    data_df['TotalCharges'] = data_df['TotalCharges'].astype(float)\n",
    "except ValueError as ve:\n",
    "    print (ve)"
   ]
  },
  {
   "cell_type": "code",
   "execution_count": null,
   "id": "03f9a472",
   "metadata": {},
   "outputs": [],
   "source": [
    "data_df['TotalCharges'] = pd.to_numeric(data_df['TotalCharges'],errors='coerce')"
   ]
  },
  {
   "cell_type": "code",
   "execution_count": null,
   "id": "1aa95e65-6896-436b-aa3e-2345542e8276",
   "metadata": {},
   "outputs": [],
   "source": [
    "data_df['TotalCharges'] = data_df['TotalCharges'].fillna(data_df['TotalCharges'].median())"
   ]
  },
  {
   "cell_type": "code",
   "execution_count": null,
   "id": "08b1ebf9-d47b-426d-84d0-221eb9dc0612",
   "metadata": {},
   "outputs": [],
   "source": [
    "def hist(feature):\n",
    "    group_df = data_df.groupby([feature, 'Churn']).size().reset_index()\n",
    "    group_df = group_df.rename(columns={0: 'Count'})\n",
    "    fig = px.histogram(group_df, x=feature, y='Count', color='Churn', marginal='box', title=f'Churn rate frequency to {feature} distribution', color_discrete_sequence=[\"green\", \"red\"])\n",
    "    fig.show()"
   ]
  },
  {
   "cell_type": "code",
   "execution_count": null,
   "id": "c65c71ff",
   "metadata": {},
   "outputs": [],
   "source": [
    "hist('tenure')"
   ]
  },
  {
   "cell_type": "code",
   "execution_count": null,
   "id": "4f3db034",
   "metadata": {},
   "outputs": [],
   "source": [
    "hist('MonthlyCharges')"
   ]
  },
  {
   "cell_type": "code",
   "execution_count": null,
   "id": "146bd0da-e217-4d94-a688-f38cadfb2acb",
   "metadata": {},
   "outputs": [],
   "source": [
    "hist('TotalCharges')"
   ]
  },
  {
   "cell_type": "markdown",
   "id": "80678843-be70-4634-bdf1-04b084934097",
   "metadata": {},
   "source": [
    "***\n",
    "**Customer account information**: The tenure histogram is rightly skewed and shows that majority of customers has been with the telecom company for just the first few months (0-9 months) and the highest rate of churn is also in that first few months (0-9months). 75% of customers who end up leaving Telcom company  do so within their first 30 months. The monthly charge histogram shows that clients with higher monthly charges have a higher churn rate (This suggests that discounts and promotions can be an enticing reason for customers to stay). The total charge trend is quite depict due to variation in frequency.\n",
    "Lets bin the numeric features into 3 sections based on quantiles (low, medium and high to get more information from it).\n",
    "***"
   ]
  },
  {
   "cell_type": "code",
   "execution_count": null,
   "id": "251cf4da",
   "metadata": {},
   "outputs": [],
   "source": [
    "bin_df = pd.DataFrame()"
   ]
  },
  {
   "cell_type": "code",
   "execution_count": null,
   "id": "02b11479",
   "metadata": {},
   "outputs": [],
   "source": [
    "bin_df['tenure_bins'] =  pd.qcut(data_df['tenure'], q=3, labels= ['low', 'medium', 'high'])"
   ]
  },
  {
   "cell_type": "code",
   "execution_count": null,
   "id": "a2505919",
   "metadata": {},
   "outputs": [],
   "source": [
    "bin_df['MonthlyCharges_bins'] =  pd.qcut(data_df['MonthlyCharges'], q=3, labels= ['low', 'medium', 'high'])"
   ]
  },
  {
   "cell_type": "code",
   "execution_count": null,
   "id": "7672b29d",
   "metadata": {},
   "outputs": [],
   "source": [
    "bin_df['TotalCharges_bins'] =  pd.qcut(data_df['TotalCharges'], q=3, labels= ['low', 'medium', 'high'])"
   ]
  },
  {
   "cell_type": "code",
   "execution_count": null,
   "id": "7620d3d5",
   "metadata": {},
   "outputs": [],
   "source": [
    "bin_df['Churn'] = data_df['Churn']"
   ]
  },
  {
   "cell_type": "code",
   "execution_count": null,
   "id": "197e8864",
   "metadata": {},
   "outputs": [],
   "source": [
    "bar('tenure_bins', bin_df)"
   ]
  },
  {
   "cell_type": "code",
   "execution_count": null,
   "id": "5ad54205",
   "metadata": {},
   "outputs": [],
   "source": [
    "bar('MonthlyCharges_bins', bin_df)"
   ]
  },
  {
   "cell_type": "code",
   "execution_count": null,
   "id": "382aebfa-3f09-4672-868c-9c7eb6b37f24",
   "metadata": {},
   "outputs": [],
   "source": [
    "bar('TotalCharges_bins', bin_df)"
   ]
  },
  {
   "cell_type": "markdown",
   "id": "b6df78e5-990c-489b-b9d1-2a3c16e2fe59",
   "metadata": {},
   "source": [
    "***\n",
    "Based on binning, the low tenure and high monthly charge bins have higher churn rates as supported with the previous analysis. While the low Total charge bin has a higher churn rate. \n",
    "***"
   ]
  },
  {
   "cell_type": "markdown",
   "id": "a0c6db8c-9bed-43a8-9190-3659dda4175e",
   "metadata": {},
   "source": [
    "### Data preprocessing"
   ]
  },
  {
   "cell_type": "code",
   "execution_count": null,
   "id": "ad670056",
   "metadata": {},
   "outputs": [],
   "source": [
    "data_df.drop([\"customerID\"],axis=1,inplace = True)"
   ]
  },
  {
   "cell_type": "code",
   "execution_count": null,
   "id": "3def4b2b",
   "metadata": {},
   "outputs": [],
   "source": [
    "def binary_map(feature):\n",
    "    return feature.map({'Yes':1, 'No':0})"
   ]
  },
  {
   "cell_type": "code",
   "execution_count": null,
   "id": "3b4bc07e",
   "metadata": {},
   "outputs": [],
   "source": [
    "data_df['Churn'] = data_df[['Churn']].apply(binary_map)"
   ]
  },
  {
   "cell_type": "code",
   "execution_count": null,
   "id": "2560e131",
   "metadata": {},
   "outputs": [],
   "source": [
    "data_df['gender'] = data_df['gender'].map({'Male':1, 'Female':0})"
   ]
  },
  {
   "cell_type": "code",
   "execution_count": null,
   "id": "0765b01a",
   "metadata": {},
   "outputs": [],
   "source": [
    "binary_list = ['SeniorCitizen', 'Partner', 'Dependents', 'PhoneService', 'PaperlessBilling']"
   ]
  },
  {
   "cell_type": "code",
   "execution_count": null,
   "id": "c10bc25a",
   "metadata": {},
   "outputs": [],
   "source": [
    "data_df[binary_list] = data_df[binary_list].apply(binary_map)"
   ]
  },
  {
   "cell_type": "code",
   "execution_count": null,
   "id": "485324ba",
   "metadata": {},
   "outputs": [],
   "source": [
    "data_df = pd.get_dummies(data_df, drop_first=True)"
   ]
  },
  {
   "cell_type": "code",
   "execution_count": null,
   "id": "c2799dc5-177a-4914-a583-890cdcdb21a3",
   "metadata": {},
   "outputs": [],
   "source": [
    "corr = data_df.corr()\n",
    "fig = px.imshow(corr,width=1000, height=1000)\n",
    "fig.show()"
   ]
  },
  {
   "cell_type": "markdown",
   "id": "40e609ea-46b1-412c-90c8-372ef6a51ced",
   "metadata": {},
   "source": [
    "Correlation is a statistical term is a measure on linear relationship with two variables. Features with high correlation are more linearly dependent and have almost the same effect on the dependent variable. So when two features have a high correlation, we can drop one of the two features."
   ]
  },
  {
   "cell_type": "code",
   "execution_count": null,
   "id": "0e764116-4a7b-489f-9df3-dbbe131bcbe3",
   "metadata": {},
   "outputs": [],
   "source": [
    "\n",
    "all_columns = [column.replace(\" \", \"_\").replace(\"(\", \"_\").replace(\")\", \"_\").replace(\"-\", \"_\") for column in data_df.columns]\n",
    "data_df.columns = all_columns\n",
    "\n",
    "glm_columns = [e for e in all_columns if e not in ['customerID', 'Churn']]\n",
    "glm_columns = ' + '.join(map(str, glm_columns))\n",
    "\n",
    "glm_model = smf.glm(formula=f'Churn ~ {glm_columns}', data=data_df, family=sm.families.Binomial())\n",
    "res = glm_model.fit()\n",
    "print(res.summary())"
   ]
  },
  {
   "cell_type": "code",
   "execution_count": null,
   "id": "05066a25-d2b0-4813-843f-2edb31f28718",
   "metadata": {},
   "outputs": [],
   "source": [
    "np.exp(res.params)"
   ]
  },
  {
   "cell_type": "code",
   "execution_count": null,
   "id": "a77557b7-3c1f-441b-b438-6ae8cc8c608d",
   "metadata": {},
   "outputs": [],
   "source": [
    "from sklearn.preprocessing import MinMaxScaler\n",
    "sc = MinMaxScaler()\n",
    "data_df['tenure'] = sc.fit_transform(data_df[['tenure']])\n",
    "data_df['MonthlyCharges'] = sc.fit_transform(data_df[['MonthlyCharges']])\n",
    "data_df['TotalCharges'] = sc.fit_transform(data_df[['TotalCharges']])"
   ]
  },
  {
   "cell_type": "markdown",
   "id": "f7d9e7ee-2dc1-4c5f-8183-5bb8d5dcb8ea",
   "metadata": {},
   "source": [
    "#### Creating a baseline model"
   ]
  },
  {
   "cell_type": "code",
   "execution_count": null,
   "id": "43c49b86-0ca0-4c68-a29e-8af7ceab941b",
   "metadata": {},
   "outputs": [],
   "source": [
    "from sklearn.linear_model import LogisticRegression\n",
    "from sklearn.svm import SVC\n",
    "from sklearn.ensemble import RandomForestClassifier\n",
    "from sklearn.tree import DecisionTreeClassifier\n",
    "from sklearn.naive_bayes import GaussianNB\n",
    "\n",
    "from sklearn.metrics import accuracy_score, precision_score, recall_score, f1_score\n",
    "\n",
    "from sklearn.model_selection import train_test_split\n",
    "X = data_df.drop('Churn', axis=1)\n",
    "y = data_df['Churn']\n",
    "X_train, X_test, y_train, y_test = train_test_split(X, y, test_size=0.3, random_state=50)  "
   ]
  },
  {
   "cell_type": "code",
   "execution_count": null,
   "id": "4a28c4c1-65b3-4fb4-9e00-6ef379caadd6",
   "metadata": {},
   "outputs": [],
   "source": [
    "def modeling(alg, alg_name, params={}):\n",
    "    model = alg(**params)\n",
    "    model.fit(X_train, y_train)\n",
    "    y_pred = model.predict(X_test)\n",
    "    \n",
    "    def print_scores(alg, y_true, y_pred):\n",
    "        print(alg_name)\n",
    "        acc_score = accuracy_score(y_true, y_pred)\n",
    "        print(\"accuracy: \",acc_score)\n",
    "        pre_score = precision_score(y_true, y_pred)\n",
    "        print(\"precision: \",pre_score)\n",
    "        rec_score = recall_score(y_true, y_pred)                            \n",
    "        print(\"recall: \",rec_score)\n",
    "        f_score = f1_score(y_true, y_pred, average='weighted')\n",
    "        print(\"f1_score: \",f_score)\n",
    "\n",
    "    print_scores(alg, y_test, y_pred)\n",
    "    return model"
   ]
  },
  {
   "cell_type": "code",
   "execution_count": null,
   "id": "a9f607d8-40d8-4d93-a0f7-3b6f41fea7bc",
   "metadata": {},
   "outputs": [],
   "source": [
    "log_model = modeling(LogisticRegression, 'Logistic Regression')"
   ]
  },
  {
   "cell_type": "code",
   "execution_count": null,
   "id": "1165f82b-dcd0-4cde-8067-53133e4923b3",
   "metadata": {},
   "outputs": [],
   "source": [
    "from sklearn.feature_selection import RFECV\n",
    "from sklearn.model_selection import StratifiedKFold\n",
    "log = LogisticRegression()\n",
    "rfecv = RFECV(estimator=log, cv=StratifiedKFold(10, random_state=50, shuffle=True), scoring=\"accuracy\")\n",
    "rfecv.fit(X, y)"
   ]
  },
  {
   "cell_type": "code",
   "execution_count": null,
   "id": "eefaf84c-37cf-4cd9-99c8-03ffa60478fa",
   "metadata": {},
   "outputs": [],
   "source": [
    "plt.figure(figsize=(8, 6))\n",
    "plt.plot(\n",
    "    range(1, len(rfecv.cv_results_['mean_test_score']) + 1),\n",
    "    rfecv.cv_results_['mean_test_score']\n",
    ")\n",
    "plt.grid()\n",
    "plt.xticks(range(1, X.shape[1]+1))\n",
    "plt.xlabel(\"Number of Selected Features\")\n",
    "plt.ylabel(\"CV Score\")\n",
    "plt.title(\"Recursive Feature Elimination (RFE)\")\n",
    "plt.show()\n",
    "\n",
    "print(\"The optimal number of features: {}\".format(rfecv.n_features_))"
   ]
  },
  {
   "cell_type": "code",
   "execution_count": null,
   "id": "388d8e8b-8ee1-45bb-a776-5a78b3aef7db",
   "metadata": {},
   "outputs": [],
   "source": [
    "X_rfe = X.iloc[:, rfecv.support_]\n",
    "\n",
    "print(\"\\\"X\\\" dimension: {}\".format(X.shape))\n",
    "print(\"\\\"X\\\" column list:\", X.columns.tolist())\n",
    "print(\"\\\"X_rfe\\\" dimension: {}\".format(X_rfe.shape))\n",
    "print(\"\\\"X_rfe\\\" column list:\", X_rfe.columns.tolist())"
   ]
  },
  {
   "cell_type": "code",
   "execution_count": null,
   "id": "d6d3d1de-bdb2-46d2-b445-1902e796a97e",
   "metadata": {},
   "outputs": [],
   "source": [
    "X_train, X_test, y_train, y_test = train_test_split(X_rfe, y, test_size=0.3, random_state=50)  "
   ]
  },
  {
   "cell_type": "code",
   "execution_count": null,
   "id": "b397dbd0-384c-40af-96fe-b5753e8765a3",
   "metadata": {},
   "outputs": [],
   "source": [
    "# Running logistic regression model\n",
    "log_model = modeling(LogisticRegression, 'Logistic Regression Classification')"
   ]
  },
  {
   "cell_type": "code",
   "execution_count": null,
   "id": "f9c06b82-eebf-415f-a89c-a0c70242fb9f",
   "metadata": {},
   "outputs": [],
   "source": [
    "### Trying other machine learning algorithms: SVC\n",
    "svc_model = modeling(SVC, 'SVC Classification')"
   ]
  },
  {
   "cell_type": "code",
   "execution_count": null,
   "id": "876548bc-9f10-4b71-a1d8-b42ac1bedb59",
   "metadata": {},
   "outputs": [],
   "source": [
    "#Random forest\n",
    "rf_model = modeling(RandomForestClassifier, \"Random Forest Classification\")"
   ]
  },
  {
   "cell_type": "code",
   "execution_count": null,
   "id": "e40870d6-bff1-4239-b15b-4d453f6f55fb",
   "metadata": {},
   "outputs": [],
   "source": [
    "#Decision tree\n",
    "dt_model = modeling(DecisionTreeClassifier, \"Decision Tree Classification\")"
   ]
  },
  {
   "cell_type": "code",
   "execution_count": null,
   "id": "c533862f-3aa4-42f6-9999-6b44b67653de",
   "metadata": {},
   "outputs": [],
   "source": [
    "#Naive bayes \n",
    "nb_model = modeling(GaussianNB, \"Naive Bayes Classification\")"
   ]
  },
  {
   "cell_type": "code",
   "execution_count": null,
   "id": "6b67d154-1b60-4bcb-bd94-2c3a01b02bae",
   "metadata": {},
   "outputs": [],
   "source": [
    "model = LogisticRegression()\n",
    "from sklearn.model_selection import RepeatedStratifiedKFold\n",
    "cv = RepeatedStratifiedKFold(n_splits=10, n_repeats=3, random_state=1)\n",
    "from scipy.stats import loguniform\n",
    "space = dict()\n",
    "space['solver'] = ['newton-cg', 'lbfgs', 'liblinear']\n",
    "space['penalty'] = ['none', 'l1', 'l2', 'elasticnet']\n",
    "space['C'] = loguniform(1e-5, 1000)\n",
    "from sklearn.model_selection import RandomizedSearchCV\n",
    "search = RandomizedSearchCV(model, space, n_iter=500, scoring='accuracy', n_jobs=-1, cv=cv, random_state=1)\n",
    "result = search.fit(X_rfe, y)\n",
    "\n",
    "print('Best Score: %s' % result.best_score_)\n",
    "print('Best Hyperparameters: %s' % result.best_params_)"
   ]
  },
  {
   "cell_type": "code",
   "execution_count": null,
   "id": "f194467d-846e-48ca-b69a-981ae6afebd7",
   "metadata": {},
   "outputs": [],
   "source": [
    "params = result.best_params_\n",
    "params"
   ]
  },
  {
   "cell_type": "code",
   "execution_count": null,
   "id": "9ad2bd8c-ae74-441b-851d-f5c8c836b7ca",
   "metadata": {},
   "outputs": [],
   "source": [
    "log_model = modeling(LogisticRegression, 'Logistic Regression Classification', params=params)"
   ]
  },
  {
   "cell_type": "code",
   "execution_count": null,
   "id": "cbe4bf9b",
   "metadata": {},
   "outputs": [],
   "source": [
    "from tensorflow.keras.models import Sequential\n",
    "from tensorflow.keras.layers import Dense, Dropout\n",
    "from tensorflow.keras.optimizers import Adam\n",
    "from tensorflow.keras.callbacks import EarlyStopping\n",
    "from sklearn.metrics import classification_report, confusion_matrix\n",
    "\n",
    "# Assuming X_rfe and y have already been created and preprocessed\n",
    "X_train, X_test, y_train, y_test = train_test_split(X_rfe, y, test_size=0.3, random_state=50)\n",
    "\n",
    "# Create ANN model\n",
    "model_ann = Sequential()\n",
    "model_ann.add(Dense(64, input_dim=X_train.shape[1], activation='relu'))\n",
    "model_ann.add(Dropout(0.3))\n",
    "model_ann.add(Dense(32, activation='relu'))\n",
    "model_ann.add(Dropout(0.3))\n",
    "model_ann.add(Dense(1, activation='sigmoid'))\n",
    "\n",
    "# Compile model\n",
    "model_ann.compile(optimizer=Adam(learning_rate=0.001), loss='binary_crossentropy', metrics=['accuracy'])\n",
    "\n",
    "# Train model\n",
    "early_stop = EarlyStopping(monitor='val_loss', mode='min', verbose=1, patience=10)\n",
    "history = model_ann.fit(X_train, y_train, epochs=100, batch_size=32, validation_split=0.2, callbacks=[early_stop])\n",
    "\n",
    "# Evaluate model\n",
    "loss, accuracy = model_ann.evaluate(X_test, y_test)\n",
    "print(f\"Test Accuracy: {accuracy:.4f}\")\n",
    "\n",
    "# Predictions\n",
    "y_pred = (model_ann.predict(X_test) > 0.5).astype(\"int32\")\n",
    "print(confusion_matrix(y_test, y_pred))\n",
    "print(classification_report(y_test, y_pred))\n"
   ]
  },
  {
   "cell_type": "code",
   "execution_count": null,
   "id": "c5c9497a-ceb9-4509-9af5-2c5f9b038fca",
   "metadata": {},
   "outputs": [],
   "source": [
    "import joblib\n",
    "\n",
    "filename = 'model.sav'\n",
    "joblib.dump(log_model, filename)"
   ]
  }
 ],
 "metadata": {
  "kernelspec": {
   "display_name": "Python 3",
   "language": "python",
   "name": "python3"
  },
  "language_info": {
   "codemirror_mode": {
    "name": "ipython",
    "version": 3
   },
   "file_extension": ".py",
   "mimetype": "text/x-python",
   "name": "python",
   "nbconvert_exporter": "python",
   "pygments_lexer": "ipython3",
   "version": "3.12.1"
  }
 },
 "nbformat": 4,
 "nbformat_minor": 5
}
